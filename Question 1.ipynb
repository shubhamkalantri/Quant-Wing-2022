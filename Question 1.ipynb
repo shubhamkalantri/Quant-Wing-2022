{
 "cells": [
  {
   "cell_type": "code",
   "execution_count": 1,
   "id": "6b25e878-a992-45e6-8dd5-3aeeed046ba3",
   "metadata": {},
   "outputs": [],
   "source": [
    "import math\n",
    "from scipy.stats import norm"
   ]
  },
  {
   "cell_type": "code",
   "execution_count": 2,
   "id": "117baa8f-94b6-4bfd-a1b4-a36941d111e5",
   "metadata": {},
   "outputs": [],
   "source": [
    "def d1(S, K, sigma, r, T, delta = 0):\n",
    "    res = math.log(S/K) + (r-delta+(1/2)*(sigma**2))*T\n",
    "    res = res / (sigma * math.sqrt(T))\n",
    "    return res"
   ]
  },
  {
   "cell_type": "code",
   "execution_count": 3,
   "id": "db527cd8-da97-461d-882d-c25c23df45f9",
   "metadata": {},
   "outputs": [],
   "source": [
    "def d2(done, sigma, T):\n",
    "    res = done - (sigma * math.sqrt(T))\n",
    "    return res"
   ]
  },
  {
   "cell_type": "code",
   "execution_count": 4,
   "id": "366ee965-b9bb-4a35-8a84-1a2a49d1f86d",
   "metadata": {},
   "outputs": [],
   "source": [
    "def CallOptionPrice(S, K, sigma, r, T, delta = 0):\n",
    "    done = d1(S, K, sigma, r, T, delta)\n",
    "    dtwo = d2(done, sigma, T)\n",
    "    power = -delta * T\n",
    "    res = S * math.exp(power) * norm.cdf(done)\n",
    "    power = -r * T\n",
    "    res = res - K * math.exp(power) * norm.cdf(dtwo)\n",
    "    return res"
   ]
  },
  {
   "cell_type": "code",
   "execution_count": 5,
   "id": "dce31665-f3df-4cb4-9af7-9c7afa1bbe5c",
   "metadata": {},
   "outputs": [],
   "source": [
    "def PutOptionPrice(S, K, sigma, r, T, delta = 0):\n",
    "    done = d1(S, K, sigma, r, T, delta)\n",
    "    dtwo = d2(done, sigma, T)\n",
    "    power = -r * T\n",
    "    res = K * math.exp(power) * norm.cdf(-dtwo)\n",
    "    power = -delta * T\n",
    "    res = res - S * math.exp(power) * norm.cdf(-done)\n",
    "    return res"
   ]
  },
  {
   "cell_type": "code",
   "execution_count": 6,
   "id": "71446390-8f2a-4131-8737-46eb17a83981",
   "metadata": {},
   "outputs": [
    {
     "name": "stdout",
     "output_type": "stream",
     "text": [
      "0.9702707408682087\n"
     ]
    }
   ],
   "source": [
    "print(CallOptionPrice(40, 45, 0.05, 0.02, 4))"
   ]
  },
  {
   "cell_type": "code",
   "execution_count": 7,
   "id": "84473429-7366-41b4-9285-7c0a394da32a",
   "metadata": {},
   "outputs": [
    {
     "name": "stdout",
     "output_type": "stream",
     "text": [
      "2.5105063282668176\n"
     ]
    }
   ],
   "source": [
    "print(PutOptionPrice(40, 45, 0.05, 0.02, 4))"
   ]
  }
 ],
 "metadata": {
  "kernelspec": {
   "display_name": "Python [conda env:quant]",
   "language": "python",
   "name": "conda-env-quant-py"
  },
  "language_info": {
   "codemirror_mode": {
    "name": "ipython",
    "version": 3
   },
   "file_extension": ".py",
   "mimetype": "text/x-python",
   "name": "python",
   "nbconvert_exporter": "python",
   "pygments_lexer": "ipython3",
   "version": "3.9.12"
  }
 },
 "nbformat": 4,
 "nbformat_minor": 5
}
