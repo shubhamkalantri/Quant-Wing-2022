{
 "cells": [
  {
   "cell_type": "markdown",
   "id": "b058d2fa-55f5-4cc4-9cea-bab8367b5d40",
   "metadata": {},
   "source": [
    "### Importing the libraries required"
   ]
  },
  {
   "cell_type": "code",
   "execution_count": 1,
   "id": "7cebec6d-3152-4322-a881-3b18712dde1f",
   "metadata": {},
   "outputs": [],
   "source": [
    "import requests\n",
    "import pandas as pd\n",
    "import yfinance as yf\n",
    "import tqdm\n",
    "import matplotlib.pyplot as plt\n",
    "import numpy as np\n",
    "import math\n",
    "from datetime import date\n",
    "import statsmodels.api as sm\n",
    "from statsmodels.tsa.stattools import adfuller"
   ]
  },
  {
   "cell_type": "markdown",
   "id": "123bb814-a882-4159-919e-4e9d3effe042",
   "metadata": {},
   "source": [
    "### Defining a few strings to be used throughout the code"
   ]
  },
  {
   "cell_type": "code",
   "execution_count": 2,
   "id": "8720b1b9-6100-4e04-b563-8c1d8b84772e",
   "metadata": {},
   "outputs": [],
   "source": [
    "Open = 'Open'\n",
    "High = 'High'\n",
    "Low = 'Low'\n",
    "Close = 'Close'\n",
    "Volume = 'Volume'\n",
    "Date = 'Date'"
   ]
  },
  {
   "cell_type": "markdown",
   "id": "dd60a937-a789-44a8-8175-95397a818469",
   "metadata": {},
   "source": [
    "### Defining the stock tickers and the period for backtesting"
   ]
  },
  {
   "cell_type": "code",
   "execution_count": 3,
   "id": "00d920ce-18ab-41b6-a233-ba81dc07ffe8",
   "metadata": {},
   "outputs": [],
   "source": [
    "names = ['META', 'AAPL', 'TSLA', 'NKE', 'AMZN', 'WMT', 'GOOG', 'GOOGL', 'NVDA', 'MSFT']\n",
    "date1 = '2019-01-01'\n",
    "date2 = date.today().strftime('%Y-%m-%d')"
   ]
  },
  {
   "cell_type": "markdown",
   "id": "9f09aa87-5b56-4246-a1ac-4ae5e5ecae62",
   "metadata": {},
   "source": [
    "### Downloading data for all 10 stocks from the Yahoo! Finance API"
   ]
  },
  {
   "cell_type": "code",
   "execution_count": 4,
   "id": "3c6bdab4-411c-47d5-829f-88c47820203b",
   "metadata": {},
   "outputs": [
    {
     "name": "stdout",
     "output_type": "stream",
     "text": [
      "[*********************100%***********************]  1 of 1 completed\n",
      "[*********************100%***********************]  1 of 1 completed\n",
      "[*********************100%***********************]  1 of 1 completed\n",
      "[*********************100%***********************]  1 of 1 completed\n",
      "[*********************100%***********************]  1 of 1 completed\n",
      "[*********************100%***********************]  1 of 1 completed\n",
      "[*********************100%***********************]  1 of 1 completed\n",
      "[*********************100%***********************]  1 of 1 completed\n",
      "[*********************100%***********************]  1 of 1 completed\n",
      "[*********************100%***********************]  1 of 1 completed\n"
     ]
    }
   ],
   "source": [
    "for i in names:\n",
    "    locals()[i] = yf.download(i, date1, date2)"
   ]
  },
  {
   "cell_type": "markdown",
   "id": "54a8c243-7376-429e-9813-791ce22d0627",
   "metadata": {},
   "source": [
    "### Running OLS regression followed by the AD Fuller test on the residuals and outputting those pairs "
   ]
  },
  {
   "cell_type": "code",
   "execution_count": 5,
   "id": "3e3a6612-6475-4b56-8758-856a2f630da9",
   "metadata": {},
   "outputs": [
    {
     "name": "stdout",
     "output_type": "stream",
     "text": [
      "AAPL and TSLA\n",
      "TSLA and AAPL\n",
      "AMZN and WMT\n",
      "WMT and AAPL\n",
      "WMT and NKE\n",
      "WMT and AMZN\n",
      "WMT and GOOG\n",
      "WMT and GOOGL\n",
      "WMT and NVDA\n",
      "WMT and MSFT\n",
      "GOOG and GOOGL\n",
      "GOOGL and GOOG\n"
     ]
    }
   ],
   "source": [
    "for i in names:\n",
    "    for j in names:\n",
    "        if i != j:\n",
    "            locals()[i + j] = sm.OLS.from_formula('Close_' + i + '~Close_' + j, data = pd.merge(locals()[i][Close], locals()[j][Close], on = Date, suffixes = ['_' + i, '_' + j])).fit()\n",
    "            if adfuller(locals()[i + j].resid)[1] < 0.05:\n",
    "                print(i + ' and ' + j)"
   ]
  }
 ],
 "metadata": {
  "kernelspec": {
   "display_name": "Python [conda env:quant]",
   "language": "python",
   "name": "conda-env-quant-py"
  },
  "language_info": {
   "codemirror_mode": {
    "name": "ipython",
    "version": 3
   },
   "file_extension": ".py",
   "mimetype": "text/x-python",
   "name": "python",
   "nbconvert_exporter": "python",
   "pygments_lexer": "ipython3",
   "version": "3.9.12"
  }
 },
 "nbformat": 4,
 "nbformat_minor": 5
}
